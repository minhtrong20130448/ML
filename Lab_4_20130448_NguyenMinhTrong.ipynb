{
  "nbformat": 4,
  "nbformat_minor": 0,
  "metadata": {
    "colab": {
      "provenance": [],
      "collapsed_sections": [
        "LMzehe0sy5wr",
        "H4nJmxp9zGX4",
        "Ok7RGkea_b7n"
      ],
      "include_colab_link": true
    },
    "kernelspec": {
      "name": "python3",
      "display_name": "Python 3"
    },
    "language_info": {
      "name": "python"
    }
  },
  "cells": [
    {
      "cell_type": "markdown",
      "metadata": {
        "id": "view-in-github",
        "colab_type": "text"
      },
      "source": [
        "<a href=\"https://colab.research.google.com/github/minhtrong20130448/ML/blob/main/Lab_4_20130448_NguyenMinhTrong.ipynb\" target=\"_parent\"><img src=\"https://colab.research.google.com/assets/colab-badge.svg\" alt=\"Open In Colab\"/></a>"
      ]
    },
    {
      "cell_type": "markdown",
      "source": [
        "# This lab is to continous dealing with **Logistic Regression**, **kNN**, and **Decision Tree** alogirthms applied to classification tasks. \n",
        "\n",
        "*   **Deadline: 23:59, 12/03/2023**\n",
        "\n"
      ],
      "metadata": {
        "id": "LMzehe0sy5wr"
      }
    },
    {
      "cell_type": "markdown",
      "source": [
        "# Import libraries"
      ],
      "metadata": {
        "id": "H4nJmxp9zGX4"
      }
    },
    {
      "cell_type": "code",
      "execution_count": null,
      "metadata": {
        "id": "DoVWQ8AEyc-C",
        "colab": {
          "base_uri": "https://localhost:8080/"
        },
        "outputId": "c1d4411d-11c0-4547-da8a-8e49f1339972"
      },
      "outputs": [
        {
          "output_type": "stream",
          "name": "stdout",
          "text": [
            "Mounted at /content/gdrive\n",
            "/content/gdrive/MyDrive/Lab4\n"
          ]
        }
      ],
      "source": [
        "from google.colab import drive\n",
        "drive.mount('/content/gdrive')\n",
        "%cd '/content/gdrive/MyDrive/Lab4'"
      ]
    },
    {
      "cell_type": "code",
      "source": [
        "from sklearn import datasets\n",
        "from sklearn.linear_model import LogisticRegression\n",
        "from sklearn.model_selection import train_test_split\n",
        "from sklearn.metrics import confusion_matrix\n",
        "from sklearn.metrics import ConfusionMatrixDisplay\n",
        "from sklearn.neighbors import KNeighborsClassifier"
      ],
      "metadata": {
        "id": "e-Klb17rYsgY"
      },
      "execution_count": 2,
      "outputs": []
    },
    {
      "cell_type": "markdown",
      "source": [
        "#Task 1. \n",
        "Apply **LogisticRegression** to iris dataset which aims at classifying species of iris based on sepal_length (chiều dài đài hoa), sepal_width, petal_length (chiều dài cánh hoa), petal_width. The species are '**setosa**' '**versicolor**' and '**virginica**'. \n",
        "\n",
        "\n",
        "\n",
        "```\n",
        "from sklearn import datasets\n",
        "data4 = datasets.load_iris()\n",
        "```\n",
        "\n",
        "\n"
      ],
      "metadata": {
        "id": "kNv07ARGzOUm"
      }
    },
    {
      "cell_type": "code",
      "source": [
        "classifier = LogisticRegression(random_state = 0) \n",
        "\n",
        "dataset = datasets.load_iris()\n",
        "X = dataset.data\n",
        "Y = dataset.target\n",
        "X_train, X_test, Y_train, Y_test = train_test_split(X, Y, test_size=.2)\n",
        "classifier.fit(X_train, Y_train)\n",
        "print(Y_test)\n",
        "y_pred = classifier.predict(X_test)\n",
        "cm = confusion_matrix(Y_test, y_pred)\n",
        "ConfusionMatrixDisplay.from_predictions(Y_test, y_pred)"
      ],
      "metadata": {
        "id": "sOsg77IBzEyo",
        "colab": {
          "base_uri": "https://localhost:8080/",
          "height": 465
        },
        "outputId": "6c034b2d-5022-411c-c801-aaf18d1045b8"
      },
      "execution_count": 17,
      "outputs": [
        {
          "output_type": "stream",
          "name": "stderr",
          "text": [
            "/usr/local/lib/python3.9/dist-packages/sklearn/linear_model/_logistic.py:458: ConvergenceWarning: lbfgs failed to converge (status=1):\n",
            "STOP: TOTAL NO. of ITERATIONS REACHED LIMIT.\n",
            "\n",
            "Increase the number of iterations (max_iter) or scale the data as shown in:\n",
            "    https://scikit-learn.org/stable/modules/preprocessing.html\n",
            "Please also refer to the documentation for alternative solver options:\n",
            "    https://scikit-learn.org/stable/modules/linear_model.html#logistic-regression\n",
            "  n_iter_i = _check_optimize_result(\n"
          ]
        },
        {
          "output_type": "stream",
          "name": "stdout",
          "text": [
            "[2 2 1 0 1 1 0 2 2 0 0 0 2 0 1 2 1 2 2 0 2 0 0 0 0 1 1 0 0 0]\n"
          ]
        },
        {
          "output_type": "execute_result",
          "data": {
            "text/plain": [
              "<sklearn.metrics._plot.confusion_matrix.ConfusionMatrixDisplay at 0x7f84d22c2220>"
            ]
          },
          "metadata": {},
          "execution_count": 17
        },
        {
          "output_type": "display_data",
          "data": {
            "text/plain": [
              "<Figure size 432x288 with 2 Axes>"
            ],
            "image/png": "[encoded data removed]"
          },
          "metadata": {
            "needs_background": "light"
          }
        }
      ]
    },
    {
      "cell_type": "markdown",
      "source": [
        "#Task 2. \n",
        "Apply LogisticRegression to **MNIST** dataset (mnist.csv) which aims at classifying handwritten digits. Dataset includes 784 pixels values of images (28x28). \n",
        "\n",
        "\n",
        "```\n",
        "from sklearn import datasets\n",
        "# load the MNIST digits dataset\n",
        "mnist = datasets.load_digits()\n",
        "```\n",
        "\n"
      ],
      "metadata": {
        "id": "S43IoUT-0OQq"
      }
    },
    {
      "cell_type": "code",
      "source": [
        "mnist = datasets.load_digits()\n",
        "\n",
        "# Load bộ dữ liệu load_digits\n",
        "digits = datasets.load_digits()\n",
        "\n",
        "# Chia data thành feature và target\n",
        "X = digits.data\n",
        "y = digits.target\n",
        "\n",
        "# Chia dữ liệu thành tập huấn luyện và tập thử nghiệm\n",
        "X_train, X_test, y_train, y_test = train_test_split(X, y, test_size=0.2)\n",
        "\n",
        "# Khởi tạo mô hình logistic regression\n",
        "clf = LogisticRegression()\n",
        "\n",
        "# Huấn luyện mô hình logistic regression\n",
        "clf.fit(X_train, y_train)\n",
        "\n",
        "# Dự đoán nhãn của dữ liệu thử nghiệm\n",
        "y_pred = clf.predict(X_test)\n",
        "\n",
        "# Confusion matrix\n",
        "cm = confusion_matrix(y_test, y_pred)\n",
        "\n",
        "# Hiển thị confusion matrix\n",
        "disp = ConfusionMatrixDisplay(confusion_matrix=cm)\n",
        "disp.plot()\n"
      ],
      "metadata": {
        "id": "_xhPpF5b033h",
        "colab": {
          "base_uri": "https://localhost:8080/",
          "height": 435
        },
        "outputId": "be44a7f3-ad98-4bba-98aa-945a3b7883de"
      },
      "execution_count": null,
      "outputs": [
        {
          "output_type": "stream",
          "name": "stderr",
          "text": [
            "/usr/local/lib/python3.9/dist-packages/sklearn/linear_model/_logistic.py:458: ConvergenceWarning: lbfgs failed to converge (status=1):\n",
            "STOP: TOTAL NO. of ITERATIONS REACHED LIMIT.\n",
            "\n",
            "Increase the number of iterations (max_iter) or scale the data as shown in:\n",
            "    https://scikit-learn.org/stable/modules/preprocessing.html\n",
            "Please also refer to the documentation for alternative solver options:\n",
            "    https://scikit-learn.org/stable/modules/linear_model.html#logistic-regression\n",
            "  n_iter_i = _check_optimize_result(\n"
          ]
        },
        {
          "output_type": "execute_result",
          "data": {
            "text/plain": [
              "<sklearn.metrics._plot.confusion_matrix.ConfusionMatrixDisplay at 0x7f5c50712af0>"
            ]
          },
          "metadata": {},
          "execution_count": 19
        },
        {
          "output_type": "display_data",
          "data": {
            "text/plain": [
              "<Figure size 432x288 with 2 Axes>"
            ],
            "image/png": "[encoded data removed]"
          },
          "metadata": {
            "needs_background": "light"
          }
        }
      ]
    },
    {
      "cell_type": "markdown",
      "source": [
        "#Task 3. \n",
        "Apply another classification algorithm named kNN, which is an instance classifcation model. \n",
        "*  3.1. Perform kNN algorithm to Iris dataset with k={1, 3, 5, …, 29}. Select the best value of k.\n",
        "\n",
        "*   3.2. Then compare the obtained results with those using Logistic regression (based on metrics: accuracy, precision, recall, f1 measure).\n"
      ],
      "metadata": {
        "id": "Rti2y0Wz2KY9"
      }
    },
    {
      "cell_type": "code",
      "source": [
        "from numpy import average\n",
        "from sklearn.neighbors import KNeighborsClassifier\n",
        "from sklearn.metrics import accuracy_score\n",
        "from sklearn.model_selection import train_test_split\n",
        "from sklearn.metrics import accuracy_score, precision_score, recall_score, f1_score\n",
        "import matplotlib.pyplot as plt\n",
        "\n",
        "#load dữ liệu\n",
        "iris = datasets.load_iris()\n",
        "\n",
        "# Chia data thành feature và target\n",
        "X = iris.data\n",
        "y = iris.target\n",
        "# Chia dữ liệu thành tập huấn luyện và tập thử nghiệm\n",
        "X_train, X_test, y_train, y_test = train_test_split(X, y, test_size=0.2)\n",
        "\n",
        "# Khởi tạo danh sách các giá trị k cần thử\n",
        "k_values = range(1, 30, 2)\n",
        "\n",
        "# Duyệt qua các giá trị k và tìm giá trị tốt nhất\n",
        "best_k = None\n",
        "best_acc = 0.0\n",
        "\n",
        "accuracys_kNN = []\n",
        "precisions_kNN = []\n",
        "recalls_kNN = []\n",
        "F1Scores_kNN = []\n",
        "\n",
        "for k in k_values:\n",
        "    # Khởi tạo mô hình kNN với k cho trước\n",
        "    clf = KNeighborsClassifier(n_neighbors=k)\n",
        "    \n",
        "    # Huấn luyện mô hình trên tập huấn luyện\n",
        "    clf.fit(X_train, y_train)\n",
        "    \n",
        "    # Dự đoán nhãn của tập thử nghiệm\n",
        "    y_pred = clf.predict(X_test)\n",
        "    \n",
        "    # Đánh giá độ chính xác của mô hình\n",
        "    acc = accuracy_score(y_test, y_pred)\n",
        "    \n",
        "    accuracys_kNN.append(acc)\n",
        "    precisions_kNN.append(precision_score(y_test, y_pred, average='macro'))\n",
        "    recalls_kNN.append(recall_score(y_test, y_pred, average='macro'))\n",
        "    F1Scores_kNN.append(f1_score(y_test, y_pred, average='macro'))\n",
        "\n",
        "    # Nếu độ chính xác tốt hơn giá trị tốt nhất hiện tại, \n",
        "    # cập nhật giá trị tốt nhất và k tương ứng\n",
        "    if acc > best_acc:\n",
        "        best_acc = acc\n",
        "        best_k = k\n",
        "\n",
        "# In ra giá trị k tốt nhất và độ chính xác tương ứng trên tập thử nghiệm\n",
        "print(\"Best k =\", best_k)\n",
        "\n",
        "# Vẽ chart kNN\n",
        "plt.plot(k_values, accuracys_kNN, label=\"Accuracy\")\n",
        "plt.plot(k_values, precisions_kNN, label=\"Precisions\")\n",
        "plt.plot(k_values, recalls_kNN, label=\"Recall\")\n",
        "plt.plot(k_values, F1Scores_kNN, label=\"F1 Scores\")\n",
        "plt.xlabel(\"k\")\n",
        "plt.legend()\n",
        "\n",
        "# Xây dựng và huấn luyện mô hình kNN với k tốt nhất\n",
        "knn_clf = KNeighborsClassifier(n_neighbors=best_k)\n",
        "knn_clf.fit(X_train, y_train)\n",
        "y_pred_knn = knn_clf.predict(X_test)\n",
        "\n",
        "\n",
        "# Tính toán độ chính xác, độ thu hồi, độ đo f1 cho mô hình kNN\n",
        "accuracy_knn = accuracy_score(y_test, y_pred_knn)\n",
        "precision_knn = precision_score(y_test, y_pred_knn, average='macro')\n",
        "recall_knn = recall_score(y_test, y_pred_knn, average='macro')\n",
        "f1_knn = f1_score(y_test, y_pred_knn, average='macro')\n",
        "\n",
        "# Xây dựng và huấn luyện mô hình Logistic Regression\n",
        "logistic_clf = LogisticRegression()\n",
        "logistic_clf.fit(X_train, y_train)\n",
        "y_pred_logistic = logistic_clf.predict(X_test)\n",
        "\n",
        "# Tính toán độ chính xác, độ thu hồi, độ đo f1 cho mô hình Logistic Regression\n",
        "accuracy_logistic = accuracy_score(y_test, y_pred_logistic)\n",
        "precision_logistic = precision_score(y_test, y_pred_logistic, average='macro')\n",
        "recall_logistic = recall_score(y_test, y_pred_logistic, average='macro')\n",
        "f1_logistic = f1_score(y_test, y_pred_logistic, average='macro')\n",
        "\n",
        "# So sánh kết quả giữa mô hình kNN(k tốt nhất) với mô hình hồi quy logistic\n",
        "print(\"Kết quả mô hình kNN với k tốt nhất:\")\n",
        "print(\"Accuracy: \", accuracy_knn)\n",
        "print(\"Precision: \", precision_knn)\n",
        "print(\"Recall: \", recall_knn)\n",
        "print(\"F1-Score: \", f1_knn)\n",
        "\n",
        "print(\"\\nKết quả mô hình Logistic Regression:\")\n",
        "print(\"Accuracy: \", accuracy_logistic)\n",
        "print(\"Precision: \", precision_logistic)\n",
        "print(\"Recall: \", recall_logistic)\n",
        "print(\"F1-Score: \", f1_logistic)\n"
      ],
      "metadata": {
        "id": "13LkkfpS2ZUR",
        "colab": {
          "base_uri": "https://localhost:8080/",
          "height": 498
        },
        "outputId": "57269128-f8b9-45bd-cde7-d5e113b1d910"
      },
      "execution_count": 60,
      "outputs": [
        {
          "output_type": "stream",
          "name": "stdout",
          "text": [
            "Best k = 1\n",
            "Kết quả mô hình kNN với k tốt nhất:\n",
            "Accuracy:  0.9666666666666667\n",
            "Precision:  0.9696969696969697\n",
            "Recall:  0.9761904761904763\n",
            "F1-Score:  0.9717813051146384\n",
            "\n",
            " Kết quả mô hình Logistic Regression:\n",
            "Accuracy:  0.9333333333333333\n",
            "Precision:  0.9444444444444445\n",
            "Recall:  0.9523809523809524\n",
            "F1-Score:  0.9440559440559441\n"
          ]
        },
        {
          "output_type": "display_data",
          "data": {
            "text/plain": [
              "<Figure size 432x288 with 1 Axes>"
            ],
            "image/png": "[encoded data removed]"
          },
          "metadata": {
            "needs_background": "light"
          }
        }
      ]
    },
    {
      "cell_type": "markdown",
      "source": [
        "#Task 4. \n",
        "Similar to Task 3, apply kNN algorithm to **mnist** dataset which included in datasets of sklearn API.\n",
        "*  4.1.\tPerform kNN algorithm to Iris dataset with k={1, 3, 5, …, 29}. Select the best value of k.\n",
        "*  4.2.\tThen compare the obtained results with those using Logistic regression (based on metrics: accuracy, precision, recall, f1 measure).\n"
      ],
      "metadata": {
        "id": "b52OPWPD2afi"
      }
    },
    {
      "cell_type": "code",
      "source": [
        "# Load bộ dữ liệu digits\n",
        "digits = datasets.load_digits()\n",
        "\n",
        "# Chia data thành feature và target\n",
        "X = digits.data\n",
        "y = digits.target\n",
        "\n",
        "# Chia dữ liệu thành tập huấn luyện và tập thử nghiệm\n",
        "X_train, X_test, y_train, y_test = train_test_split(X, y, test_size=0.2)\n",
        "\n",
        "# Khởi tạo danh sách các giá trị k cần thử\n",
        "k_values = range(1, 30, 2)\n",
        "\n",
        "# Duyệt qua các giá trị k và tìm giá trị tốt nhất\n",
        "best_k = None\n",
        "best_acc = 0.0\n",
        "\n",
        "accuracys_kNN = []\n",
        "precisions_kNN = []\n",
        "recalls_kNN = []\n",
        "F1Scores_kNN = []\n",
        "\n",
        "for k in k_values:\n",
        "    # Khởi tạo mô hình kNN với k cho trước\n",
        "    clf = KNeighborsClassifier(n_neighbors=k)\n",
        "    \n",
        "    # Huấn luyện mô hình trên tập huấn luyện\n",
        "    clf.fit(X_train, y_train)\n",
        "    \n",
        "    # Dự đoán nhãn của tập thử nghiệm\n",
        "    y_pred = clf.predict(X_test)\n",
        "    \n",
        "    # Đánh giá độ chính xác của mô hình\n",
        "    acc = accuracy_score(y_test, y_pred)\n",
        "    \n",
        "    accuracys_kNN.append(acc)\n",
        "    precisions_kNN.append(precision_score(y_test, y_pred, average='weighted'))\n",
        "    recalls_kNN.append(recall_score(y_test, y_pred, average='weighted'))\n",
        "    F1Scores_kNN.append(f1_score(y_test, y_pred, average='weighted'))\n",
        "\n",
        "    # Nếu độ chính xác tốt hơn giá trị tốt nhất hiện tại, \n",
        "    # cập nhật giá trị tốt nhất và k tương ứng\n",
        "    if acc > best_acc:\n",
        "        best_acc = acc\n",
        "        best_k = k\n",
        "\n",
        "# In ra giá trị k tốt nhất và độ chính xác tương ứng trên tập thử nghiệm\n",
        "print(\"Best k =\", best_k)\n",
        "\n",
        "# Vẽ chart kNN\n",
        "plt.plot(k_values, accuracys_kNN, label=\"Accuracy\")\n",
        "plt.plot(k_values, precisions_kNN, label=\"Precisions\")\n",
        "plt.plot(k_values, recalls_kNN, label=\"Recall\")\n",
        "plt.plot(k_values, F1Scores_kNN, label=\"F1 Scores\")\n",
        "plt.xlabel(\"k\")\n",
        "plt.legend()\n",
        "\n",
        "# Xây dựng và huấn luyện mô hình kNN với best_k\n",
        "knn_clf = KNeighborsClassifier(n_neighbors=best_k)\n",
        "knn_clf.fit(X_train, y_train)\n",
        "y_pred_knn = knn_clf.predict(X_test)\n",
        "\n",
        "# Tính toán độ chính xác, độ thu hồi, độ chính xác cân bằng, độ thu hồi cân bằng và f1-score của mô hình kNN\n",
        "accuracy_knn = accuracy_score(y_test, y_pred_knn)\n",
        "precision_knn = precision_score(y_test, y_pred_knn, average='weighted')\n",
        "recall_knn = recall_score(y_test, y_pred_knn, average='weighted')\n",
        "f1_knn = f1_score(y_test, y_pred_knn, average='weighted')\n",
        "\n",
        "# Xây dựng và huấn luyện mô hình Logistic Regression\n",
        "logistic_clf = LogisticRegression(max_iter=1000)\n",
        "logistic_clf.fit(X_train, y_train)\n",
        "y_pred_logistic = logistic_clf.predict(X_test)\n",
        "\n",
        "# Tính toán độ chính xác, độ thu hồi, độ chính xác cân bằng, độ thu hồi cân bằng và f1-score của mô hình Logistic Regression\n",
        "accuracy_logistic = accuracy_score(y_test, y_pred_logistic)\n",
        "precision_logistic = precision_score(y_test, y_pred_logistic, average='weighted')\n",
        "recall_logistic = recall_score(y_test, y_pred_logistic, average='weighted')\n",
        "f1_logistic = f1_score(y_test, y_pred_logistic, average='weighted')\n",
        "\n",
        "# So sánh kết quả\n",
        "print(\"Kết quả mô hình kNN với k tốt nhất:\")\n",
        "print(\"Accuracy: \", accuracy_knn)\n",
        "print(\"Precision: \", precision_knn)\n",
        "print(\"Recall: \", recall_knn)\n",
        "print(\"F1-Score: \", f1_knn)\n",
        "\n",
        "print(\"\\nKết quả mô hình Logistic Regression:\")\n",
        "print(\"Accuracy: \", accuracy_logistic)\n",
        "print(\"Precision: \", precision_logistic)\n",
        "print(\"Recall: \", recall_logistic)\n",
        "print(\"F1-Score: \", f1_logistic)"
      ],
      "metadata": {
        "id": "Rw_-8FIf2KxW",
        "colab": {
          "base_uri": "https://localhost:8080/",
          "height": 648
        },
        "outputId": "d1d18e7d-b67a-4f28-b928-817eec7bf26b"
      },
      "execution_count": 33,
      "outputs": [
        {
          "output_type": "stream",
          "name": "stdout",
          "text": [
            "Best k = 1\n"
          ]
        },
        {
          "output_type": "stream",
          "name": "stderr",
          "text": [
            "/usr/local/lib/python3.9/dist-packages/sklearn/linear_model/_logistic.py:458: ConvergenceWarning: lbfgs failed to converge (status=1):\n",
            "STOP: TOTAL NO. of ITERATIONS REACHED LIMIT.\n",
            "\n",
            "Increase the number of iterations (max_iter) or scale the data as shown in:\n",
            "    https://scikit-learn.org/stable/modules/preprocessing.html\n",
            "Please also refer to the documentation for alternative solver options:\n",
            "    https://scikit-learn.org/stable/modules/linear_model.html#logistic-regression\n",
            "  n_iter_i = _check_optimize_result(\n"
          ]
        },
        {
          "output_type": "stream",
          "name": "stdout",
          "text": [
            "Kết quả mô hình kNN với k tốt nhất:\n",
            "Accuracy:  0.9833333333333333\n",
            "Precision:  0.9837658191106468\n",
            "Recall:  0.9833333333333333\n",
            "F1-Score:  0.9833100967584731\n",
            "\n",
            " Kết quả mô hình Logistic Regression:\n",
            "Accuracy:  0.9638888888888889\n",
            "Precision:  0.9644220165667194\n",
            "Recall:  0.9638888888888889\n",
            "F1-Score:  0.9638890517591765\n"
          ]
        },
        {
          "output_type": "display_data",
          "data": {
            "text/plain": [
              "<Figure size 432x288 with 1 Axes>"
            ],
            "image/png": "[encoded data removed]"
          },
          "metadata": {
            "needs_background": "light"
          }
        }
      ]
    },
    {
      "cell_type": "markdown",
      "source": [
        "#Task 5. \n",
        "Compare the performance of selected classification algorithms (**Decision Treen, kNN, and Logistic Regression**) to ***spam detection***. The dataset can be accessed from the link: http://archive.ics.uci.edu/ml/datasets/Spambase \n",
        "Attribute Information:\n",
        "The last column of 'spambase.csv denotes whether the e-mail was considered spam (1) or not (0), i.e. unsolicited commercial e-mail. Most of the attributes indicate whether a particular word or character was frequently occuring in the e-mail. The run-length attributes (55-57) measure the length of sequences of consecutive capital letters. For the statistical measures of each attribute, see the end of this file. Here are the definitions of the attributes: \n",
        "*  48 continuous real [0,100] attributes of type word_freq_WORD \n",
        "= percentage of words in the e-mail that match WORD, i.e. 100 * (number of times the WORD appears in the e-mail) / total number of words in e-mail. A \"word\" in this case is any string of alphanumeric characters bounded by non-alphanumeric characters or end-of-string. **Example**: word_freq_address: percentage of words in the e-mail that match ADDRESS.\n",
        "*  6 continuous real [0,100] attributes of type char_freq_CHAR] \n",
        "= percentage of characters in the e-mail that match CHAR, i.e. 100 * (number of CHAR occurences) / total characters in e-mail\n",
        "*  1 continuous real [1,...] attribute of type capital_run_length_average \n",
        "= average length of uninterrupted sequences of capital letters\n",
        "*  1 continuous integer [1,...] attribute of type capital_run_length_longest \n",
        "= length of longest uninterrupted sequence of capital letters\n",
        "*  1 continuous integer [1,...] attribute of type capital_run_length_total = sum of length of uninterrupted sequences of capital letters = total number of capital letters in the e-mail\n",
        "*  1 nominal {0,1} class attribute of type spam = denotes whether the e-mail was considered spam (1) or not (0), i.e. unsolicited commercial e-mail. \n",
        "\n",
        "\n",
        "---\n",
        "\n",
        "\n",
        "In order to compare the performance of selected algorithms, some common metrics including **accuracy, precision, recall, f1 measures** could be used.\n"
      ],
      "metadata": {
        "id": "MVzSk4l505E0"
      }
    },
    {
      "cell_type": "code",
      "source": [
        "import pandas as pd\n",
        "from sklearn.tree import DecisionTreeClassifier\n",
        "# Load bộ dữ liệu Spambase\n",
        "data = pd.read_csv('spambase.csv')\n",
        "\n",
        "# Chia data thành feature và target\n",
        "X = data.iloc[:,:-1]\n",
        "y = data.iloc[:,-1]\n",
        "# Chia dữ liệu thành tập huấn luyện và tập kiểm tra\n",
        "X_train, X_test, y_train, y_test = train_test_split(X, y, test_size=0.2, random_state=42)\n",
        "\n",
        "# Huấn luyện mô hình Decision Tree\n",
        "dt_model = DecisionTreeClassifier(random_state=42)\n",
        "dt_model.fit(X_train, y_train)\n",
        "y_pred_dt = dt_model.predict(X_test)\n",
        "\n",
        "# Confusion matrix dt\n",
        "cm_dt = confusion_matrix(y_test, y_pred_knn)\n",
        "\n",
        "# Hiển thị confusion matrix dt\n",
        "disp_dt = ConfusionMatrixDisplay(confusion_matrix=cm_dt)\n",
        "disp_dt.plot()\n",
        "disp_dt.ax_.set_title(\"Decision Tree\")\n",
        "\n",
        "# Tính toán các thước đo đánh giá mô hình Decision Tree\n",
        "accuracy_dt = accuracy_score(y_test, y_pred_dt)\n",
        "recall_dt = recall_score(y_test, y_pred_dt)\n",
        "precision_dt = precision_score(y_test, y_pred_dt)\n",
        "f1_dt = f1_score(y_test, y_pred_dt)\n",
        "\n",
        "# Huấn luyện mô hình kNN\n",
        "knn_model = KNeighborsClassifier(n_neighbors=5)\n",
        "knn_model.fit(X_train, y_train)\n",
        "y_pred_knn = knn_model.predict(X_test)\n",
        "\n",
        "# Confusion matrix kNN\n",
        "cm_kNN = confusion_matrix(y_test, y_pred_dt)\n",
        "\n",
        "# Hiển thị confusion matrix kNN\n",
        "disp_kNN = ConfusionMatrixDisplay(confusion_matrix=cm_kNN)\n",
        "disp_kNN.plot()\n",
        "disp_kNN.ax_.set_title(\"kNN\")\n",
        "\n",
        "# Tính toán các thước đo đánh giá mô hình kNN\n",
        "accuracy_knn = accuracy_score(y_test, y_pred_knn)\n",
        "recall_knn = recall_score(y_test, y_pred_knn)\n",
        "precision_knn = precision_score(y_test, y_pred_knn)\n",
        "f1_knn = f1_score(y_test, y_pred_knn)\n",
        "\n",
        "# Huấn luyện mô hình Logistic Regression\n",
        "logistic_model = LogisticRegression(solver='liblinear')\n",
        "logistic_model.fit(X_train, y_train)\n",
        "y_pred_logistic = logistic_model.predict(X_test)\n",
        "\n",
        "# Huấn luyện mô hình Logistic Regression\n",
        "logistic_model = LogisticRegression()\n",
        "logistic_model.fit(X_train, y_train)\n",
        "y_pred_logistic = logistic_model.predict(X_test)\n",
        "\n",
        "# Confusion matrix dt\n",
        "cm_logistic = confusion_matrix(y_test, y_pred_logistic)\n",
        "\n",
        "# Hiển thị confusion matrix dt\n",
        "disp_logistic = ConfusionMatrixDisplay(confusion_matrix=cm_logistic)\n",
        "disp_logistic.plot()\n",
        "disp_logistic.ax_.set_title(\"Logistic Regression\")\n",
        "\n",
        "# Tính toán các thước đo đánh giá mô hình Logistic Regression\n",
        "accuracy_logistic = accuracy_score(y_test, y_pred_logistic)\n",
        "recall_logistic = recall_score(y_test, y_pred_logistic)\n",
        "precision_logistic = precision_score(y_test, y_pred_logistic)\n",
        "f1_logistic = f1_score(y_test, y_pred_logistic)\n",
        "\n",
        "\n",
        "# Kết quả các thước đo đánh giá của ba mô hình\n",
        "print(\"Kết quả mô hình Decision Tree:\")\n",
        "print(\"Accuracy: \", accuracy_dt)\n",
        "print(\"Precision: \", precision_dt)\n",
        "print(\"Recall: \", recall_dt)\n",
        "print(\"F1-Score: \", f1_dt)\n",
        "\n",
        "print(\"\\n Kết quả mô hình kNN:\")\n",
        "print(\"Accuracy: \", accuracy_knn)\n",
        "print(\"Precision: \", precision_knn)\n",
        "print(\"Recall: \", recall_knn)\n",
        "print(\"F1-Score: \", f1_knn)\n",
        "\n",
        "print(\"\\n Kết quả mô hình Logistic Regression:\")\n",
        "print(\"Accuracy: \", accuracy_logistic)\n",
        "print(\"Precision: \", precision_logistic)\n",
        "print(\"Recall: \", recall_logistic)\n",
        "print(\"F1-Score: \", f1_logistic)\n"
      ],
      "metadata": {
        "id": "W_1v_ivR2f6D",
        "colab": {
          "base_uri": "https://localhost:8080/",
          "height": 1000
        },
        "outputId": "0b5dd9bb-e8d5-4a9e-ba8c-9b4ff8b47993"
      },
      "execution_count": null,
      "outputs": [
        {
          "output_type": "stream",
          "name": "stderr",
          "text": [
            "/usr/local/lib/python3.9/dist-packages/sklearn/linear_model/_logistic.py:458: ConvergenceWarning: lbfgs failed to converge (status=1):\n",
            "STOP: TOTAL NO. of ITERATIONS REACHED LIMIT.\n",
            "\n",
            "Increase the number of iterations (max_iter) or scale the data as shown in:\n",
            "    https://scikit-learn.org/stable/modules/preprocessing.html\n",
            "Please also refer to the documentation for alternative solver options:\n",
            "    https://scikit-learn.org/stable/modules/linear_model.html#logistic-regression\n",
            "  n_iter_i = _check_optimize_result(\n"
          ]
        },
        {
          "output_type": "stream",
          "name": "stdout",
          "text": [
            "Decision Tree Results:\n",
            "Accuracy:  0.9185667752442996\n",
            "Precision:  0.92\n",
            "Recall:  0.8846153846153846\n",
            "F1-Score:  0.9019607843137256\n",
            "\n",
            "K-Nearest Neighbors Results:\n",
            "Accuracy:  0.7904451682953312\n",
            "Precision:  0.7743732590529248\n",
            "Recall:  0.7128205128205128\n",
            "F1-Score:  0.7423230974632844\n",
            "\n",
            "Logistic Regression Results:\n",
            "Accuracy:  0.9261672095548317\n",
            "Precision:  0.9214659685863874\n",
            "Recall:  0.9025641025641026\n",
            "F1-Score:  0.9119170984455959\n"
          ]
        },
        {
          "output_type": "display_data",
          "data": {
            "text/plain": [
              "<Figure size 432x288 with 2 Axes>"
            ],
            "image/png": "[encoded data removed]"
          },
          "metadata": {
            "needs_background": "light"
          }
        },
        {
          "output_type": "display_data",
          "data": {
            "text/plain": [
              "<Figure size 432x288 with 2 Axes>"
            ],
            "image/png": "[encoded data removed]"
          },
          "metadata": {
            "needs_background": "light"
          }
        },
        {
          "output_type": "display_data",
          "data": {
            "text/plain": [
              "<Figure size 432x288 with 2 Axes>"
            ],
            "image/png": "[encoded data removed]"
          },
          "metadata": {
            "needs_background": "light"
          }
        }
      ]
    },
    {
      "cell_type": "markdown",
      "source": [
        "#Finally,\n",
        "Save a copy in your Github. Remember renaming the notebook."
      ],
      "metadata": {
        "id": "Ok7RGkea_b7n"
      }
    }
  ]
}