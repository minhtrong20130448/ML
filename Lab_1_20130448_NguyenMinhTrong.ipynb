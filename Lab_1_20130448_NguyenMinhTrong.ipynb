{
  "nbformat": 4,
  "nbformat_minor": 0,
  "metadata": {
    "colab": {
      "provenance": [],
      "authorship_tag": "ABX9TyMvulvr76i/k2W9gp1qqNvN",
      "include_colab_link": true
    },
    "kernelspec": {
      "name": "python3",
      "display_name": "Python 3"
    },
    "language_info": {
      "name": "python"
    }
  },
  "cells": [
    {
      "cell_type": "markdown",
      "metadata": {
        "id": "view-in-github",
        "colab_type": "text"
      },
      "source": [
        "<a href=\"https://colab.research.google.com/github/minhtrong20130448/ML/blob/main/Lab_1_20130448_NguyenMinhTrong.ipynb\" target=\"_parent\"><img src=\"https://colab.research.google.com/assets/colab-badge.svg\" alt=\"Open In Colab\"/></a>"
      ]
    },
    {
      "cell_type": "code",
      "execution_count": null,
      "metadata": {
        "colab": {
          "base_uri": "https://localhost:8080/"
        },
        "id": "y2104CKABE44",
        "outputId": "db897bc2-908f-4570-a87f-844f216fa897"
      },
      "outputs": [
        {
          "output_type": "stream",
          "name": "stdout",
          "text": [
            "Nhap n: 1\n",
            "n: 1\n",
            "nhap phan tu: 2\n",
            "Array is : [2]\n",
            "Giá trị lớn nhất:  2\n",
            "Giá trị nhỏ nhất:  2\n",
            "Tổng:  2\n",
            "số dương:  1\n",
            "số âm:  0\n"
          ]
        }
      ],
      "source": [
        "#Task 1.1\n",
        "n = int(input('Nhap n: '));\n",
        "print('n:', n)\n",
        "list = []\n",
        "for i in range(n):\n",
        "    s = int(input('nhap phan tu: '))\n",
        "    list.append(s)\n",
        "\n",
        "print('Array is :',list)\n",
        "print('Giá trị lớn nhất: ',max(list));\n",
        "print('Giá trị nhỏ nhất: ',min(list));\n",
        "print('Tổng: ', sum(list));\n",
        "\n",
        "am = 0\n",
        "duong = 0\n",
        "for k in list:\n",
        "  if k < 0:\n",
        "    am = am + 1\n",
        "  else:\n",
        "    duong = duong + 1\n",
        "\n",
        "print('số dương: ',duong)\n",
        "print('số âm: ', am)"
      ]
    },
    {
      "cell_type": "code",
      "source": [
        "#Task 1.2\n",
        "def Sn(n):\n",
        "  if n == 0:\n",
        "    return 1\n",
        "  else:\n",
        "    return Sn(n-1)+1/(2*n+1)\n",
        "\n",
        "Sn(4)"
      ],
      "metadata": {
        "id": "gXYOwbyqHlFW"
      },
      "execution_count": null,
      "outputs": []
    },
    {
      "cell_type": "code",
      "source": [
        "#Task 1.3\n",
        "from abc import ABC\n",
        "\n",
        "class Product(ABC):\n",
        "  def __init__(self, name, type, price, expiredDate):\n",
        "    self.name = name\n",
        "    self.type = type\n",
        "    self.price = price\n",
        "    self.expiredDate = expiredDate\n",
        "\n",
        "  def getPrice(self):\n",
        "    return self.price   \n",
        "  \n",
        "  def getType(self):\n",
        "    return self.type\n",
        "\n",
        "class ImportedProduct(Product):\n",
        "  def __init__(self, name, type, price, expiredDate, fromCountry):\n",
        "    self.name = name\n",
        "    self.type = type\n",
        "    self.price = price\n",
        "    self.expiredDate = expiredDate\n",
        "    self.fromCountry = fromCountry\n",
        "\n",
        "class DomesticProduct(Product):\n",
        "  def __init__(self, name, type, price, expiredDate):\n",
        "    self.name = name\n",
        "    self.type = type\n",
        "    self.price = price\n",
        "    self.expiredDate = expiredDate\n",
        "\n",
        "\n",
        "class OrderItem(object):\n",
        "  def __init__(self, item, amount):\n",
        "    self.item = item\n",
        "    self.amount = amount\n",
        "\n",
        "  def getItem(self):\n",
        "    return self.item\n",
        "\n",
        "  def getAmount(self):\n",
        "    return self.amount\n",
        "\n",
        "class Order(object):\n",
        "  def __init__(self, id, customer, employee, date, items):\n",
        "    self.id = id\n",
        "    self.customer = customer\n",
        "    self.employee = employee\n",
        "    self.date = date \n",
        "    self.items = items\n",
        "\n",
        "  def getItems(self):\n",
        "    return self.items\n",
        " \n",
        "    \n",
        "class OrderManager(object):\n",
        "  def __init__(self, orders):\n",
        "    self.orders = orders\n",
        "\n",
        "  def highestPrice(self): \n",
        "    max = 0\n",
        "    for order in self.orders:\n",
        "      for item in order.getItems():\n",
        "        value = item.getItem().getPrice()\n",
        "        if max < value:\n",
        "          max = value\n",
        "    return max\n",
        "\n",
        "  def statisticalProduct(self):\n",
        "    dic = {}\n",
        "\n",
        "    for order in self.orders:\n",
        "      for item in order.getItems():\n",
        "        value = item.getItem().getType()\n",
        "        amount = item.getAmount()\n",
        "        if value in dic:\n",
        "          dic[value] = dic.get(value) + amount\n",
        "        else :\n",
        "          dic[value] = amount\n",
        "          \n",
        "    return dic\n",
        "\n",
        "\n",
        "pro1 = ImportedProduct(\"product1\", \"type1\", 10, \"10-1-2022\",\"Italya\")\n",
        "pro2 = ImportedProduct(\"product2\", \"type2\", 50, \"20-2-2022\",\"Viet Nam\")\n",
        "pro3 = DomesticProduct(\"product3\", \"type1\", 67, \"10-2-2022\")\n",
        "pro4 = DomesticProduct(\"product4\", \"type2\", 20, \"20-6-2022\")\n",
        "pro5 = ImportedProduct(\"product5\", \"type4\", 54, \"11-1-2022\", \"Japan\")\n",
        "pro6 = DomesticProduct(\"product6\", \"type3\", 40, \"3-3-2022\")\n",
        "\n",
        "orderItem1 = OrderItem(pro1, 3);\n",
        "orderItem2 = OrderItem(pro2, 1);\n",
        "orderItem3 = OrderItem(pro4, 2);\n",
        "orderItem4 = OrderItem(pro5, 4);\n",
        "orderItem5 = OrderItem(pro6, 6);\n",
        "orderItem6 = OrderItem(pro3, 1);\n",
        "\n",
        "orders1 = []\n",
        "orders1.append(orderItem1)\n",
        "orders1.append(orderItem2)\n",
        "\n",
        "orders2 = []\n",
        "orders2.append(orderItem3)\n",
        "orders2.append(orderItem4)\n",
        "\n",
        "orders3 = []\n",
        "orders3.append(orderItem5)\n",
        "orders3.append(orderItem6)\n",
        "\n",
        "\n",
        "\n",
        "order1 = Order(\"1\", \"Khạch Hang A\", \"Nhan Vien A\", \"10-1-2022\", orders1)\n",
        "order2 = Order(\"1\", \"Khạch Hang B\", \"Nhan Vien B\", \"22-2-2022\", orders2)\n",
        "order3 = Order(\"1\", \"Khạch Hang C\", \"Nhan Vien C\", \"20-4-2022\", orders3)\n",
        "\n",
        "orders = [] \n",
        "orders.append(order1)\n",
        "orders.append(order2)\n",
        "orders.append(order3)\n",
        "\n",
        "manager = OrderManager(orders)\n",
        "\n",
        "print(manager.highestPrice())\n",
        "print(manager.statisticalProduct())\n",
        "\n",
        "\n"
      ],
      "metadata": {
        "colab": {
          "base_uri": "https://localhost:8080/"
        },
        "id": "gtOCTq_CJUYN",
        "outputId": "e101d05d-00f6-4dcd-db76-5b75f2e04208"
      },
      "execution_count": 2,
      "outputs": [
        {
          "output_type": "stream",
          "name": "stdout",
          "text": [
            "67\n",
            "{'type1': 4, 'type2': 3, 'type4': 4, 'type3': 6}\n"
          ]
        }
      ]
    },
    {
      "cell_type": "code",
      "source": [
        "#2.1\n",
        "import numpy as np\n",
        "x = np.arange(10,26,1)\n",
        "reverseArr = np.flip(x)\n",
        "reverseArr"
      ],
      "metadata": {
        "colab": {
          "base_uri": "https://localhost:8080/"
        },
        "id": "wC-A596TzW3U",
        "outputId": "7ae677fd-8cd2-4633-f8f1-fc26d944512d"
      },
      "execution_count": 9,
      "outputs": [
        {
          "output_type": "execute_result",
          "data": {
            "text/plain": [
              "array([25, 24, 23, 22, 21, 20, 19, 18, 17, 16, 15, 14, 13, 12, 11, 10])"
            ]
          },
          "metadata": {},
          "execution_count": 9
        }
      ]
    },
    {
      "cell_type": "code",
      "source": [
        "#Task2.2\n",
        "def repeatArray(array, time):\n",
        "  arr = array\n",
        "  for i in range(time-1):\n",
        "    array = np.append(array,arr)\n",
        "  return array\n",
        "\n",
        "#test repeating 2 times\n",
        "repeatArray([1,2,3,4], 2)"
      ],
      "metadata": {
        "colab": {
          "base_uri": "https://localhost:8080/"
        },
        "id": "R3GFO7-04Hy2",
        "outputId": "b6c0d368-2a08-4484-f766-c019f4a52754"
      },
      "execution_count": 20,
      "outputs": [
        {
          "output_type": "execute_result",
          "data": {
            "text/plain": [
              "array([1, 2, 3, 4, 1, 2, 3, 4])"
            ]
          },
          "metadata": {},
          "execution_count": 20
        }
      ]
    },
    {
      "cell_type": "code",
      "source": [
        "#Task2.3\n",
        "def repleaceArray(array, numberReplace, numberGreater):\n",
        "  array[array > numberGreater] = numberReplace\n",
        "  return array\n",
        "\n",
        "arr = np.array([[0.42, 0.48, 0.32], [0.74, 0.58, 0.38], [0.51, 0.34, 0.15]]).reshape(3,3)\n",
        "\n",
        "repleaceArray(arr,0.5, 0.5)"
      ],
      "metadata": {
        "colab": {
          "base_uri": "https://localhost:8080/"
        },
        "id": "nmNe57YP6UL5",
        "outputId": "84abd7ef-b602-4167-d684-f6dc7fd9fd23"
      },
      "execution_count": 22,
      "outputs": [
        {
          "output_type": "execute_result",
          "data": {
            "text/plain": [
              "array([[0.42, 0.48, 0.32],\n",
              "       [0.5 , 0.5 , 0.38],\n",
              "       [0.5 , 0.34, 0.15]])"
            ]
          },
          "metadata": {},
          "execution_count": 22
        }
      ]
    }
  ]
}